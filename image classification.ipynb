{
 "cells": [
  {
   "cell_type": "code",
   "execution_count": null,
   "id": "232d6807",
   "metadata": {},
   "outputs": [],
   "source": [
    "import numpy as np\n",
    "import pandas as pd\n",
    "from matplotlib import pyplot as plt\n",
    "from sklearn.ensemble import RandomForestClassifier\n",
    "from sklearn.cross_validation import train_test_split\n",
    "%matplotlib inline"
   ]
  },
  {
   "cell_type": "code",
   "execution_count": null,
   "id": "095d201a",
   "metadata": {},
   "outputs": [],
   "source": [
    "#using pandas to read the database stored in the same folder\n",
    "data=pd.read_csv('mnist.csv')"
   ]
  },
  {
   "cell_type": "code",
   "execution_count": null,
   "id": "b94a0c52",
   "metadata": {},
   "outputs": [],
   "source": [
    "#viewing column heads\n",
    "data.head()"
   ]
  },
  {
   "cell_type": "code",
   "execution_count": null,
   "id": "9369222e",
   "metadata": {},
   "outputs": [],
   "source": [
    "#extracting data from the dataset and viewing them up close\n",
    "a=data.iloc[3,1:].values"
   ]
  },
  {
   "cell_type": "code",
   "execution_count": null,
   "id": "9900c3f6",
   "metadata": {},
   "outputs": [],
   "source": [
    "#reshaping the extracted data into a resonable size\n",
    "a=a.reshape(28,28).astype('uint8')\n",
    "plt.imshow(a)"
   ]
  },
  {
   "cell_type": "code",
   "execution_count": null,
   "id": "01eb0038",
   "metadata": {},
   "outputs": [],
   "source": [
    "#preparing the data\n",
    "#seperating lables and data values\n",
    "df_x=data.ilob[:,1:]\n",
    "df_y=data.iloc[:,0]"
   ]
  },
  {
   "cell_type": "code",
   "execution_count": null,
   "id": "bc565e4a",
   "metadata": {},
   "outputs": [],
   "source": [
    "#creating test and train sizes /batches\n",
    "x_train , x_test, y_train,y_test= train_test_split(df_x,df_y,test_size=0.2,random_state=4)"
   ]
  },
  {
   "cell_type": "code",
   "execution_count": null,
   "id": "9e692e2e",
   "metadata": {},
   "outputs": [],
   "source": [
    "#check data\n",
    "y_train.head()"
   ]
  },
  {
   "cell_type": "code",
   "execution_count": null,
   "id": "929b7a8b",
   "metadata": {},
   "outputs": [],
   "source": [
    "#call rf classifier\n",
    "rf=RandomForestClassifier(n_estimators=100)"
   ]
  },
  {
   "cell_type": "code",
   "execution_count": null,
   "id": "6ed719fa",
   "metadata": {},
   "outputs": [],
   "source": [
    "#fit the model\n",
    "rf.fit(x_train,y_train)"
   ]
  },
  {
   "cell_type": "code",
   "execution_count": null,
   "id": "1cf13e9c",
   "metadata": {},
   "outputs": [],
   "source": [
    "#prediction on test data\n",
    "pred= rf.predict(x_test)"
   ]
  },
  {
   "cell_type": "code",
   "execution_count": null,
   "id": "77318f56",
   "metadata": {},
   "outputs": [],
   "source": [
    "pred"
   ]
  },
  {
   "cell_type": "code",
   "execution_count": null,
   "id": "8843df2e",
   "metadata": {},
   "outputs": [],
   "source": [
    "#check prediction accuracy\n",
    "s=y_test.values\n",
    "\n",
    "#caculate number of correctly predicted values\n",
    "count=0\n",
    "for i in range(len(pred)):\n",
    "    if pred[i]==s[i]\n",
    "    count=count+1"
   ]
  },
  {
   "cell_type": "code",
   "execution_count": null,
   "id": "b84fd9f9",
   "metadata": {},
   "outputs": [],
   "source": [
    "count"
   ]
  },
  {
   "cell_type": "code",
   "execution_count": null,
   "id": "a4aa2654",
   "metadata": {},
   "outputs": [],
   "source": [
    "#total values that te prediction code was run on\n",
    "len(pred)"
   ]
  }
 ],
 "metadata": {
  "kernelspec": {
   "display_name": "Python 3 (ipykernel)",
   "language": "python",
   "name": "python3"
  },
  "language_info": {
   "codemirror_mode": {
    "name": "ipython",
    "version": 3
   },
   "file_extension": ".py",
   "mimetype": "text/x-python",
   "name": "python",
   "nbconvert_exporter": "python",
   "pygments_lexer": "ipython3",
   "version": "3.11.5"
  }
 },
 "nbformat": 4,
 "nbformat_minor": 5
}
